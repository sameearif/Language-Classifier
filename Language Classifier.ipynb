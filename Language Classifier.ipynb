{
  "cells": [
    {
      "cell_type": "code",
      "execution_count": 22,
      "metadata": {
        "colab": {
          "base_uri": "https://localhost:8080/"
        },
        "id": "W5kxfiYgGKTk",
        "outputId": "6419ddd5-4dbf-4f1e-e1c0-6558043b2a8a"
      },
      "outputs": [
        {
          "output_type": "stream",
          "name": "stdout",
          "text": [
            "Drive already mounted at /content/gdrive; to attempt to forcibly remount, call drive.mount(\"/content/gdrive\", force_remount=True).\n"
          ]
        }
      ],
      "source": [
        "from google.colab import drive\n",
        "drive.mount('/content/gdrive')"
      ]
    },
    {
      "cell_type": "code",
      "execution_count": 23,
      "metadata": {
        "id": "_018VjHs-xth"
      },
      "outputs": [],
      "source": [
        "import numpy as np\n",
        "import re\n",
        "import glob\n",
        "import pandas as pd\n",
        "import math\n",
        "import matplotlib.pyplot as plt"
      ]
    },
    {
      "cell_type": "markdown",
      "source": [
        "# DO NOT RUN"
      ],
      "metadata": {
        "id": "5yJsVSzXG9Ws"
      }
    },
    {
      "cell_type": "code",
      "source": [
        "# We read the audio files, extracted features and saved them in csv files attached.\n",
        "# The code is given below!\n",
        "\n",
        "# import python_speech_features as mfcc\n",
        "# from scipy.io.wavfile import read\n",
        "\n",
        "# def get_MFCC(audio, sr):\n",
        "# features = mfcc.mfcc(audio, sr, 0.025, 0.01, 13, appendEnergy = True)\n",
        "# return np.mean(features, axis=0)\n",
        "\n",
        "# data = []\n",
        "# labels = []\n",
        "# lang = {\"ur\": 0, \"ue\": 1, \"en\": 2}\n",
        "# for filename in glob.glob(\"Recordings/*\"):\n",
        "# sr, audio = read(filename)\n",
        "# features = get_MFCC(audio, sr)\n",
        "# data.append(features)\n",
        "# labels.append(lang[filename[11:13]])\n",
        "\n",
        "# data = np.array(data)\n",
        "# labels = np.array(labels)\n",
        "\n",
        "# np.savetxt(\"Dataset.csv\", data2, delimiter=\",\")\n",
        "# np.savetxt(\"Labels.csv\", labels, delimiter=\",\") "
      ],
      "metadata": {
        "id": "4dFrioyOFf_r"
      },
      "execution_count": null,
      "outputs": []
    },
    {
      "cell_type": "code",
      "execution_count": 24,
      "metadata": {
        "id": "oxxfVxo1_TQm"
      },
      "outputs": [],
      "source": [
        "X = np.loadtxt(\"gdrive/MyDrive/ML/Phase2/Dataset.csv\", delimiter=',')\n",
        "y = np.loadtxt(\"gdrive/MyDrive/ML/Phase2/Labels.csv\", delimiter=',')"
      ]
    },
    {
      "cell_type": "code",
      "execution_count": 34,
      "metadata": {
        "id": "x1-1-bcEJ7py"
      },
      "outputs": [],
      "source": [
        "from sklearn.model_selection import train_test_split\n",
        "from sklearn.model_selection import cross_val_predict\n",
        "from sklearn.preprocessing import normalize\n",
        "from sklearn.metrics import confusion_matrix\n",
        "from sklearn.metrics import classification_report\n",
        "from sklearn.metrics import accuracy_score\n",
        "from sklearn.neighbors import KNeighborsClassifier\n",
        "from sklearn.ensemble import RandomForestClassifier\n",
        "from sklearn.ensemble import BaggingClassifier\n",
        "from sklearn.metrics import zero_one_loss\n",
        "from sklearn.neural_network import MLPClassifier\n",
        "from sklearn.metrics import log_loss\n",
        "from sklearn.preprocessing import StandardScaler\n",
        "from sklearn.svm import SVC\n",
        "from sklearn.metrics import hinge_loss\n",
        "from sklearn.pipeline import make_pipeline"
      ]
    },
    {
      "cell_type": "code",
      "execution_count": 26,
      "metadata": {
        "id": "RytlE-llOEHL"
      },
      "outputs": [],
      "source": [
        "mean = np.mean(X, axis=0)\n",
        "sd = np.std(X, axis=0)\n",
        "norm_X = (X-mean)/sd"
      ]
    },
    {
      "cell_type": "code",
      "execution_count": 27,
      "metadata": {
        "id": "MctjfuzIG4pc"
      },
      "outputs": [],
      "source": [
        " X_train, X_test, y_train, y_test = train_test_split(norm_X, y, test_size=0.2, random_state=0, shuffle=True)"
      ]
    },
    {
      "cell_type": "markdown",
      "metadata": {
        "id": "cHiuh4aNOiJf"
      },
      "source": [
        "# KNN"
      ]
    },
    {
      "cell_type": "code",
      "execution_count": 28,
      "metadata": {
        "id": "hTTEzJfmJ52w",
        "colab": {
          "base_uri": "https://localhost:8080/",
          "height": 1000
        },
        "outputId": "ffd6f6e8-a8f4-49f2-e644-9af23602659a"
      },
      "outputs": [
        {
          "output_type": "stream",
          "name": "stdout",
          "text": [
            "k = 1:\n",
            "\n",
            "acc = 0.7931530494821634 \n",
            "\n",
            "[[3261  400  486]\n",
            " [ 464 4488  467]\n",
            " [ 530  529 3279]] \n",
            "\n",
            "              precision    recall  f1-score   support\n",
            "\n",
            "         0.0       0.79      0.77      0.78      4255\n",
            "         1.0       0.83      0.83      0.83      5417\n",
            "         2.0       0.76      0.77      0.77      4232\n",
            "\n",
            "    accuracy                           0.79     13904\n",
            "   macro avg       0.79      0.79      0.79     13904\n",
            "weighted avg       0.79      0.79      0.79     13904\n",
            " \n",
            "\n",
            "\n",
            "k = 2:\n",
            "\n",
            "acc = 0.7931530494821634 \n",
            "\n",
            "[[3261  400  486]\n",
            " [ 464 4488  467]\n",
            " [ 530  529 3279]] \n",
            "\n",
            "              precision    recall  f1-score   support\n",
            "\n",
            "         0.0       0.79      0.77      0.78      4255\n",
            "         1.0       0.83      0.83      0.83      5417\n",
            "         2.0       0.76      0.77      0.77      4232\n",
            "\n",
            "    accuracy                           0.79     13904\n",
            "   macro avg       0.79      0.79      0.79     13904\n",
            "weighted avg       0.79      0.79      0.79     13904\n",
            " \n",
            "\n",
            "\n",
            "k = 3:\n",
            "\n",
            "acc = 0.8032220943613348 \n",
            "\n",
            "[[3279  345  439]\n",
            " [ 486 4570  474]\n",
            " [ 490  502 3319]] \n",
            "\n",
            "              precision    recall  f1-score   support\n",
            "\n",
            "         0.0       0.81      0.77      0.79      4255\n",
            "         1.0       0.83      0.84      0.83      5417\n",
            "         2.0       0.77      0.78      0.78      4232\n",
            "\n",
            "    accuracy                           0.80     13904\n",
            "   macro avg       0.80      0.80      0.80     13904\n",
            "weighted avg       0.80      0.80      0.80     13904\n",
            " \n",
            "\n",
            "\n",
            "k = 4:\n",
            "\n",
            "acc = 0.8051639815880323 \n",
            "\n",
            "[[3283  342  434]\n",
            " [ 473 4578  464]\n",
            " [ 499  497 3334]] \n",
            "\n",
            "              precision    recall  f1-score   support\n",
            "\n",
            "         0.0       0.81      0.77      0.79      4255\n",
            "         1.0       0.83      0.85      0.84      5417\n",
            "         2.0       0.77      0.79      0.78      4232\n",
            "\n",
            "    accuracy                           0.81     13904\n",
            "   macro avg       0.80      0.80      0.80     13904\n",
            "weighted avg       0.81      0.81      0.81     13904\n",
            " \n",
            "\n",
            "\n",
            "k = 5:\n",
            "\n",
            "acc = 0.8008486766398158 \n",
            "\n",
            "[[3250  326  435]\n",
            " [ 502 4582  494]\n",
            " [ 503  509 3303]] \n",
            "\n",
            "              precision    recall  f1-score   support\n",
            "\n",
            "         0.0       0.81      0.76      0.79      4255\n",
            "         1.0       0.82      0.85      0.83      5417\n",
            "         2.0       0.77      0.78      0.77      4232\n",
            "\n",
            "    accuracy                           0.80     13904\n",
            "   macro avg       0.80      0.80      0.80     13904\n",
            "weighted avg       0.80      0.80      0.80     13904\n",
            " \n",
            "\n",
            "\n",
            "k = 6:\n",
            "\n",
            "acc = 0.8050201380897584 \n",
            "\n",
            "[[3244  299  408]\n",
            " [ 502 4607  482]\n",
            " [ 509  511 3342]] \n",
            "\n",
            "              precision    recall  f1-score   support\n",
            "\n",
            "         0.0       0.82      0.76      0.79      4255\n",
            "         1.0       0.82      0.85      0.84      5417\n",
            "         2.0       0.77      0.79      0.78      4232\n",
            "\n",
            "    accuracy                           0.81     13904\n",
            "   macro avg       0.80      0.80      0.80     13904\n",
            "weighted avg       0.81      0.81      0.80     13904\n",
            " \n",
            "\n",
            "\n",
            "k = 7:\n",
            "\n",
            "acc = 0.7976121979286537 \n",
            "\n",
            "[[3212  309  428]\n",
            " [ 533 4597  523]\n",
            " [ 510  511 3281]] \n",
            "\n",
            "              precision    recall  f1-score   support\n",
            "\n",
            "         0.0       0.81      0.75      0.78      4255\n",
            "         1.0       0.81      0.85      0.83      5417\n",
            "         2.0       0.76      0.78      0.77      4232\n",
            "\n",
            "    accuracy                           0.80     13904\n",
            "   macro avg       0.80      0.79      0.79     13904\n",
            "weighted avg       0.80      0.80      0.80     13904\n",
            " \n",
            "\n",
            "\n",
            "k = 8:\n",
            "\n",
            "acc = 0.7997698504027618 \n",
            "\n",
            "[[3204  299  428]\n",
            " [ 528 4625  513]\n",
            " [ 523  493 3291]] \n",
            "\n",
            "              precision    recall  f1-score   support\n",
            "\n",
            "         0.0       0.82      0.75      0.78      4255\n",
            "         1.0       0.82      0.85      0.83      5417\n",
            "         2.0       0.76      0.78      0.77      4232\n",
            "\n",
            "    accuracy                           0.80     13904\n",
            "   macro avg       0.80      0.79      0.80     13904\n",
            "weighted avg       0.80      0.80      0.80     13904\n",
            " \n",
            "\n",
            "\n",
            "k = 9:\n",
            "\n",
            "acc = 0.7953107019562716 \n",
            "\n",
            "[[3185  301  421]\n",
            " [ 538 4612  550]\n",
            " [ 532  504 3261]] \n",
            "\n",
            "              precision    recall  f1-score   support\n",
            "\n",
            "         0.0       0.82      0.75      0.78      4255\n",
            "         1.0       0.81      0.85      0.83      5417\n",
            "         2.0       0.76      0.77      0.76      4232\n",
            "\n",
            "    accuracy                           0.80     13904\n",
            "   macro avg       0.79      0.79      0.79     13904\n",
            "weighted avg       0.80      0.80      0.79     13904\n",
            " \n",
            "\n",
            "\n",
            "k = 10:\n",
            "\n",
            "acc = 0.7935126582278481 \n",
            "\n",
            "[[3163  310  427]\n",
            " [ 542 4611  546]\n",
            " [ 550  496 3259]] \n",
            "\n",
            "              precision    recall  f1-score   support\n",
            "\n",
            "         0.0       0.81      0.74      0.78      4255\n",
            "         1.0       0.81      0.85      0.83      5417\n",
            "         2.0       0.76      0.77      0.76      4232\n",
            "\n",
            "    accuracy                           0.79     13904\n",
            "   macro avg       0.79      0.79      0.79     13904\n",
            "weighted avg       0.79      0.79      0.79     13904\n",
            " \n",
            "\n",
            "\n"
          ]
        },
        {
          "output_type": "display_data",
          "data": {
            "image/png": "[encoded data removed]",
            "text/plain": [
              "<Figure size 432x288 with 1 Axes>"
            ]
          },
          "metadata": {
            "needs_background": "light"
          }
        }
      ],
      "source": [
        "accuracyList = []\n",
        "for i in range(1,11):\n",
        "  knn = KNeighborsClassifier(n_neighbors=i, weights=\"distance\", p=2)\n",
        "  prediction = cross_val_predict(knn, X_train, y_train)\n",
        "  matrix = np.transpose(confusion_matrix(y_train, prediction, labels=[0, 1, 2]))\n",
        "  accuracy = accuracy_score(y_train, prediction)\n",
        "  accuracyList.append(accuracy)\n",
        "  cr = classification_report(y_train, prediction)\n",
        "  print(f\"k = {i}:\\n\")\n",
        "  print(\"acc =\", accuracy,\"\\n\")\n",
        "  print(matrix, \"\\n\")\n",
        "  print(cr,\"\\n\\n\")\n",
        "\n",
        "plt.plot([i for i in range(1,11)], [1-a for a in accuracyList])\n",
        "plt.title(\"VALIDATION LOSS\")\n",
        "plt.ylabel(\"loss\")\n",
        "plt.xlabel(\"k\")\n",
        "plt.show()"
      ]
    },
    {
      "cell_type": "code",
      "execution_count": 29,
      "metadata": {
        "id": "8ZNKlLB1zxG1",
        "colab": {
          "base_uri": "https://localhost:8080/"
        },
        "outputId": "646e1a1b-555b-45ae-c462-898f08cf1f22"
      },
      "outputs": [
        {
          "output_type": "stream",
          "name": "stdout",
          "text": [
            "Test results:\n",
            "0.8256616800920599\n",
            "[[ 850   84   85]\n",
            " [ 106 1172  127]\n",
            " [  91  113  848]]\n",
            "              precision    recall  f1-score   support\n",
            "\n",
            "         0.0       0.83      0.81      0.82      1047\n",
            "         1.0       0.83      0.86      0.84      1369\n",
            "         2.0       0.81      0.80      0.80      1060\n",
            "\n",
            "    accuracy                           0.83      3476\n",
            "   macro avg       0.82      0.82      0.82      3476\n",
            "weighted avg       0.83      0.83      0.83      3476\n",
            "\n"
          ]
        }
      ],
      "source": [
        "# selected k=4 due to minimum loss in graph above\n",
        "\n",
        "knn = KNeighborsClassifier(n_neighbors=4, weights=\"distance\", p=2)\n",
        "clf = BaggingClassifier(base_estimator=knn, n_estimators=100, random_state=0, bootstrap=True, max_samples=13904, max_features=13)\n",
        "clf.fit(X_train, y_train)\n",
        "prediction = clf.predict(X_test)\n",
        "matrix = np.transpose(confusion_matrix(y_test, prediction, labels=[0, 1, 2]))\n",
        "accuracy = accuracy_score(y_test, prediction)\n",
        "cr = classification_report(y_test, prediction)\n",
        "print(\"Test results:\")\n",
        "print(accuracy)\n",
        "print(matrix)\n",
        "print(cr, )"
      ]
    },
    {
      "cell_type": "markdown",
      "metadata": {
        "id": "VXXAr2dT9WuQ"
      },
      "source": [
        "# Neural Net"
      ]
    },
    {
      "cell_type": "code",
      "execution_count": 30,
      "metadata": {
        "id": "JBOkFUet8toj",
        "colab": {
          "base_uri": "https://localhost:8080/",
          "height": 1000
        },
        "outputId": "a4c2c3e2-9d88-49bc-852e-000b07c26a5a"
      },
      "outputs": [
        {
          "output_type": "stream",
          "name": "stderr",
          "text": [
            "/usr/local/lib/python3.7/dist-packages/sklearn/neural_network/_multilayer_perceptron.py:696: ConvergenceWarning: Stochastic Optimizer: Maximum iterations (200) reached and the optimization hasn't converged yet.\n",
            "  ConvergenceWarning,\n",
            "/usr/local/lib/python3.7/dist-packages/sklearn/neural_network/_multilayer_perceptron.py:696: ConvergenceWarning: Stochastic Optimizer: Maximum iterations (200) reached and the optimization hasn't converged yet.\n",
            "  ConvergenceWarning,\n",
            "/usr/local/lib/python3.7/dist-packages/sklearn/neural_network/_multilayer_perceptron.py:696: ConvergenceWarning: Stochastic Optimizer: Maximum iterations (200) reached and the optimization hasn't converged yet.\n",
            "  ConvergenceWarning,\n",
            "/usr/local/lib/python3.7/dist-packages/sklearn/neural_network/_multilayer_perceptron.py:696: ConvergenceWarning: Stochastic Optimizer: Maximum iterations (200) reached and the optimization hasn't converged yet.\n",
            "  ConvergenceWarning,\n",
            "/usr/local/lib/python3.7/dist-packages/sklearn/neural_network/_multilayer_perceptron.py:696: ConvergenceWarning: Stochastic Optimizer: Maximum iterations (200) reached and the optimization hasn't converged yet.\n",
            "  ConvergenceWarning,\n",
            "/usr/local/lib/python3.7/dist-packages/sklearn/neural_network/_multilayer_perceptron.py:696: ConvergenceWarning: Stochastic Optimizer: Maximum iterations (200) reached and the optimization hasn't converged yet.\n",
            "  ConvergenceWarning,\n"
          ]
        },
        {
          "output_type": "stream",
          "name": "stdout",
          "text": [
            "max_iter = 200:\n",
            "\n",
            "acc = 0.7170598388952819 \n",
            "\n",
            "[[3015  648  654]\n",
            " [ 619 4178  801]\n",
            " [ 621  591 2777]] \n",
            "\n",
            "              precision    recall  f1-score   support\n",
            "\n",
            "         0.0       0.70      0.71      0.70      4255\n",
            "         1.0       0.75      0.77      0.76      5417\n",
            "         2.0       0.70      0.66      0.68      4232\n",
            "\n",
            "    accuracy                           0.72     13904\n",
            "   macro avg       0.71      0.71      0.71     13904\n",
            "weighted avg       0.72      0.72      0.72     13904\n",
            " \n",
            "\n",
            "\n"
          ]
        },
        {
          "output_type": "stream",
          "name": "stderr",
          "text": [
            "/usr/local/lib/python3.7/dist-packages/sklearn/neural_network/_multilayer_perceptron.py:696: ConvergenceWarning: Stochastic Optimizer: Maximum iterations (220) reached and the optimization hasn't converged yet.\n",
            "  ConvergenceWarning,\n",
            "/usr/local/lib/python3.7/dist-packages/sklearn/neural_network/_multilayer_perceptron.py:696: ConvergenceWarning: Stochastic Optimizer: Maximum iterations (220) reached and the optimization hasn't converged yet.\n",
            "  ConvergenceWarning,\n",
            "/usr/local/lib/python3.7/dist-packages/sklearn/neural_network/_multilayer_perceptron.py:696: ConvergenceWarning: Stochastic Optimizer: Maximum iterations (220) reached and the optimization hasn't converged yet.\n",
            "  ConvergenceWarning,\n",
            "/usr/local/lib/python3.7/dist-packages/sklearn/neural_network/_multilayer_perceptron.py:696: ConvergenceWarning: Stochastic Optimizer: Maximum iterations (220) reached and the optimization hasn't converged yet.\n",
            "  ConvergenceWarning,\n",
            "/usr/local/lib/python3.7/dist-packages/sklearn/neural_network/_multilayer_perceptron.py:696: ConvergenceWarning: Stochastic Optimizer: Maximum iterations (220) reached and the optimization hasn't converged yet.\n",
            "  ConvergenceWarning,\n",
            "/usr/local/lib/python3.7/dist-packages/sklearn/neural_network/_multilayer_perceptron.py:696: ConvergenceWarning: Stochastic Optimizer: Maximum iterations (220) reached and the optimization hasn't converged yet.\n",
            "  ConvergenceWarning,\n"
          ]
        },
        {
          "output_type": "stream",
          "name": "stdout",
          "text": [
            "max_iter = 220:\n",
            "\n",
            "acc = 0.7168440736478712 \n",
            "\n",
            "[[2957  616  607]\n",
            " [ 630 4159  774]\n",
            " [ 668  642 2851]] \n",
            "\n",
            "              precision    recall  f1-score   support\n",
            "\n",
            "         0.0       0.71      0.69      0.70      4255\n",
            "         1.0       0.75      0.77      0.76      5417\n",
            "         2.0       0.69      0.67      0.68      4232\n",
            "\n",
            "    accuracy                           0.72     13904\n",
            "   macro avg       0.71      0.71      0.71     13904\n",
            "weighted avg       0.72      0.72      0.72     13904\n",
            " \n",
            "\n",
            "\n"
          ]
        },
        {
          "output_type": "stream",
          "name": "stderr",
          "text": [
            "/usr/local/lib/python3.7/dist-packages/sklearn/neural_network/_multilayer_perceptron.py:696: ConvergenceWarning: Stochastic Optimizer: Maximum iterations (240) reached and the optimization hasn't converged yet.\n",
            "  ConvergenceWarning,\n",
            "/usr/local/lib/python3.7/dist-packages/sklearn/neural_network/_multilayer_perceptron.py:696: ConvergenceWarning: Stochastic Optimizer: Maximum iterations (240) reached and the optimization hasn't converged yet.\n",
            "  ConvergenceWarning,\n",
            "/usr/local/lib/python3.7/dist-packages/sklearn/neural_network/_multilayer_perceptron.py:696: ConvergenceWarning: Stochastic Optimizer: Maximum iterations (240) reached and the optimization hasn't converged yet.\n",
            "  ConvergenceWarning,\n",
            "/usr/local/lib/python3.7/dist-packages/sklearn/neural_network/_multilayer_perceptron.py:696: ConvergenceWarning: Stochastic Optimizer: Maximum iterations (240) reached and the optimization hasn't converged yet.\n",
            "  ConvergenceWarning,\n",
            "/usr/local/lib/python3.7/dist-packages/sklearn/neural_network/_multilayer_perceptron.py:696: ConvergenceWarning: Stochastic Optimizer: Maximum iterations (240) reached and the optimization hasn't converged yet.\n",
            "  ConvergenceWarning,\n",
            "/usr/local/lib/python3.7/dist-packages/sklearn/neural_network/_multilayer_perceptron.py:696: ConvergenceWarning: Stochastic Optimizer: Maximum iterations (240) reached and the optimization hasn't converged yet.\n",
            "  ConvergenceWarning,\n"
          ]
        },
        {
          "output_type": "stream",
          "name": "stdout",
          "text": [
            "max_iter = 240:\n",
            "\n",
            "acc = 0.7171317606444189 \n",
            "\n",
            "[[2969  661  575]\n",
            " [ 575 4016  671]\n",
            " [ 711  740 2986]] \n",
            "\n",
            "              precision    recall  f1-score   support\n",
            "\n",
            "         0.0       0.71      0.70      0.70      4255\n",
            "         1.0       0.76      0.74      0.75      5417\n",
            "         2.0       0.67      0.71      0.69      4232\n",
            "\n",
            "    accuracy                           0.72     13904\n",
            "   macro avg       0.71      0.71      0.71     13904\n",
            "weighted avg       0.72      0.72      0.72     13904\n",
            " \n",
            "\n",
            "\n"
          ]
        },
        {
          "output_type": "stream",
          "name": "stderr",
          "text": [
            "/usr/local/lib/python3.7/dist-packages/sklearn/neural_network/_multilayer_perceptron.py:696: ConvergenceWarning: Stochastic Optimizer: Maximum iterations (260) reached and the optimization hasn't converged yet.\n",
            "  ConvergenceWarning,\n",
            "/usr/local/lib/python3.7/dist-packages/sklearn/neural_network/_multilayer_perceptron.py:696: ConvergenceWarning: Stochastic Optimizer: Maximum iterations (260) reached and the optimization hasn't converged yet.\n",
            "  ConvergenceWarning,\n",
            "/usr/local/lib/python3.7/dist-packages/sklearn/neural_network/_multilayer_perceptron.py:696: ConvergenceWarning: Stochastic Optimizer: Maximum iterations (260) reached and the optimization hasn't converged yet.\n",
            "  ConvergenceWarning,\n",
            "/usr/local/lib/python3.7/dist-packages/sklearn/neural_network/_multilayer_perceptron.py:696: ConvergenceWarning: Stochastic Optimizer: Maximum iterations (260) reached and the optimization hasn't converged yet.\n",
            "  ConvergenceWarning,\n",
            "/usr/local/lib/python3.7/dist-packages/sklearn/neural_network/_multilayer_perceptron.py:696: ConvergenceWarning: Stochastic Optimizer: Maximum iterations (260) reached and the optimization hasn't converged yet.\n",
            "  ConvergenceWarning,\n",
            "/usr/local/lib/python3.7/dist-packages/sklearn/neural_network/_multilayer_perceptron.py:696: ConvergenceWarning: Stochastic Optimizer: Maximum iterations (260) reached and the optimization hasn't converged yet.\n",
            "  ConvergenceWarning,\n"
          ]
        },
        {
          "output_type": "stream",
          "name": "stdout",
          "text": [
            "max_iter = 260:\n",
            "\n",
            "acc = 0.7153337169159953 \n",
            "\n",
            "[[3092  698  704]\n",
            " [ 589 4108  782]\n",
            " [ 574  611 2746]] \n",
            "\n",
            "              precision    recall  f1-score   support\n",
            "\n",
            "         0.0       0.69      0.73      0.71      4255\n",
            "         1.0       0.75      0.76      0.75      5417\n",
            "         2.0       0.70      0.65      0.67      4232\n",
            "\n",
            "    accuracy                           0.72     13904\n",
            "   macro avg       0.71      0.71      0.71     13904\n",
            "weighted avg       0.72      0.72      0.71     13904\n",
            " \n",
            "\n",
            "\n"
          ]
        },
        {
          "output_type": "stream",
          "name": "stderr",
          "text": [
            "/usr/local/lib/python3.7/dist-packages/sklearn/neural_network/_multilayer_perceptron.py:696: ConvergenceWarning: Stochastic Optimizer: Maximum iterations (280) reached and the optimization hasn't converged yet.\n",
            "  ConvergenceWarning,\n",
            "/usr/local/lib/python3.7/dist-packages/sklearn/neural_network/_multilayer_perceptron.py:696: ConvergenceWarning: Stochastic Optimizer: Maximum iterations (280) reached and the optimization hasn't converged yet.\n",
            "  ConvergenceWarning,\n",
            "/usr/local/lib/python3.7/dist-packages/sklearn/neural_network/_multilayer_perceptron.py:696: ConvergenceWarning: Stochastic Optimizer: Maximum iterations (280) reached and the optimization hasn't converged yet.\n",
            "  ConvergenceWarning,\n",
            "/usr/local/lib/python3.7/dist-packages/sklearn/neural_network/_multilayer_perceptron.py:696: ConvergenceWarning: Stochastic Optimizer: Maximum iterations (280) reached and the optimization hasn't converged yet.\n",
            "  ConvergenceWarning,\n",
            "/usr/local/lib/python3.7/dist-packages/sklearn/neural_network/_multilayer_perceptron.py:696: ConvergenceWarning: Stochastic Optimizer: Maximum iterations (280) reached and the optimization hasn't converged yet.\n",
            "  ConvergenceWarning,\n",
            "/usr/local/lib/python3.7/dist-packages/sklearn/neural_network/_multilayer_perceptron.py:696: ConvergenceWarning: Stochastic Optimizer: Maximum iterations (280) reached and the optimization hasn't converged yet.\n",
            "  ConvergenceWarning,\n"
          ]
        },
        {
          "output_type": "stream",
          "name": "stdout",
          "text": [
            "max_iter = 280:\n",
            "\n",
            "acc = 0.7167002301495973 \n",
            "\n",
            "[[3046  709  645]\n",
            " [ 584 4024  692]\n",
            " [ 625  684 2895]] \n",
            "\n",
            "              precision    recall  f1-score   support\n",
            "\n",
            "         0.0       0.69      0.72      0.70      4255\n",
            "         1.0       0.76      0.74      0.75      5417\n",
            "         2.0       0.69      0.68      0.69      4232\n",
            "\n",
            "    accuracy                           0.72     13904\n",
            "   macro avg       0.71      0.71      0.71     13904\n",
            "weighted avg       0.72      0.72      0.72     13904\n",
            " \n",
            "\n",
            "\n"
          ]
        },
        {
          "output_type": "display_data",
          "data": {
            "image/png": "[encoded data removed]",
            "text/plain": [
              "<Figure size 432x288 with 1 Axes>"
            ]
          },
          "metadata": {
            "needs_background": "light"
          }
        }
      ],
      "source": [
        "epoch = 20\n",
        "LogLoss = []\n",
        "for i in range(1, 6):\n",
        "  clf = MLPClassifier(random_state=0, hidden_layer_sizes=(250, 250, 250, 250,), max_iter=epoch).fit(X_train, y_train)\n",
        "  y_pred = cross_val_predict(clf, X_train, y_train, method=\"predict_proba\")\n",
        "  prediction = np.argmax(y_pred, axis=1)\n",
        "  matrix = np.transpose(confusion_matrix(y_train, prediction, labels=[0, 1, 2]))\n",
        "  accuracy = accuracy_score(y_train, prediction)\n",
        "  l = log_loss(y_train, y_pred)\n",
        "  LogLoss.append(l)\n",
        "  cr = classification_report(y_train, prediction)\n",
        "  print(f\"max_iter = {epoch}:\\n\")\n",
        "  print(\"acc =\", accuracy,\"\\n\")\n",
        "  print(matrix, \"\\n\")\n",
        "  print(cr,\"\\n\\n\")\n",
        "  epoch += 10\n",
        "\n",
        "plt.plot([20+((i-1)*10) for i in range(1,6)], LogLoss)\n",
        "plt.title(\"Validation LOSS\")\n",
        "plt.ylabel(\"loss\")\n",
        "plt.xlabel(\"epochs\")\n",
        "plt.show()"
      ]
    },
    {
      "cell_type": "code",
      "source": [
        "X_train, X_test, y_train, y_test = train_test_split(norm_X, y, test_size=0.2, random_state=0, shuffle=True)\n",
        "\n",
        "clf = MLPClassifier(random_state=0, hidden_layer_sizes=(250, 250, 250, 250, ), max_iter=41).fit(X_train, y_train)\n",
        "J = clf.loss_curve_\n",
        "\n",
        "plt.plot([i for i in range(1,len(J)+1)], J)\n",
        "plt.title(\"Training LOSS\")\n",
        "plt.ylabel(\"loss\")\n",
        "plt.xlabel(\"epochs\")\n",
        "plt.show()"
      ],
      "metadata": {
        "id": "O8nDGRbQKxKS",
        "colab": {
          "base_uri": "https://localhost:8080/",
          "height": 349
        },
        "outputId": "a4ae1704-d646-4ba8-f5ed-ba0e78542729"
      },
      "execution_count": 31,
      "outputs": [
        {
          "output_type": "stream",
          "name": "stderr",
          "text": [
            "/usr/local/lib/python3.7/dist-packages/sklearn/neural_network/_multilayer_perceptron.py:696: ConvergenceWarning: Stochastic Optimizer: Maximum iterations (41) reached and the optimization hasn't converged yet.\n",
            "  ConvergenceWarning,\n"
          ]
        },
        {
          "output_type": "display_data",
          "data": {
            "image/png": "[encoded data removed]",
            "text/plain": [
              "<Figure size 432x288 with 1 Axes>"
            ]
          },
          "metadata": {
            "needs_background": "light"
          }
        }
      ]
    },
    {
      "cell_type": "code",
      "execution_count": 32,
      "metadata": {
        "id": "YKVEe9naH8_X",
        "colab": {
          "base_uri": "https://localhost:8080/"
        },
        "outputId": "25b0d20b-42b8-4aee-fbf0-a2ea40d36f90"
      },
      "outputs": [
        {
          "output_type": "stream",
          "name": "stdout",
          "text": [
            "Test results:\n",
            "0.7911392405063291\n",
            "[[ 811  110  106]\n",
            " [ 102 1109  124]\n",
            " [ 134  150  830]]\n",
            "              precision    recall  f1-score   support\n",
            "\n",
            "         0.0       0.79      0.77      0.78      1047\n",
            "         1.0       0.83      0.81      0.82      1369\n",
            "         2.0       0.75      0.78      0.76      1060\n",
            "\n",
            "    accuracy                           0.79      3476\n",
            "   macro avg       0.79      0.79      0.79      3476\n",
            "weighted avg       0.79      0.79      0.79      3476\n",
            " \n",
            "\n",
            "\n"
          ]
        }
      ],
      "source": [
        "prediction = clf.predict(X_test)\n",
        "matrix = np.transpose(confusion_matrix(y_test, prediction, labels=[0, 1, 2]))\n",
        "accuracy = accuracy_score(y_test, prediction)\n",
        "cr = classification_report(y_test, prediction)\n",
        "print(\"Test results:\")\n",
        "print(accuracy)\n",
        "print(matrix)\n",
        "print(cr,\"\\n\\n\")"
      ]
    },
    {
      "cell_type": "markdown",
      "source": [
        "# SVM"
      ],
      "metadata": {
        "id": "ud4di4f2LRAN"
      }
    },
    {
      "cell_type": "code",
      "execution_count": 42,
      "metadata": {
        "id": "RZcMwW5tELNY",
        "colab": {
          "base_uri": "https://localhost:8080/",
          "height": 1000
        },
        "outputId": "b81a4f77-d03f-41c1-f4f9-e7edc7106059"
      },
      "outputs": [
        {
          "output_type": "stream",
          "name": "stdout",
          "text": [
            "C = 2:\n",
            "\n",
            "accuracy = 0.8307681242807825 \n",
            "\n",
            "[[3467  318  406]\n",
            " [ 398 4726  468]\n",
            " [ 390  373 3358]] \n",
            "\n",
            "              precision    recall  f1-score   support\n",
            "\n",
            "         0.0       0.83      0.81      0.82      4255\n",
            "         1.0       0.85      0.87      0.86      5417\n",
            "         2.0       0.81      0.79      0.80      4232\n",
            "\n",
            "    accuracy                           0.83     13904\n",
            "   macro avg       0.83      0.83      0.83     13904\n",
            "weighted avg       0.83      0.83      0.83     13904\n",
            " \n",
            "\n",
            "\n",
            "C = 4:\n",
            "\n",
            "accuracy = 0.8258774453394706 \n",
            "\n",
            "[[3458  331  426]\n",
            " [ 413 4688  469]\n",
            " [ 384  398 3337]] \n",
            "\n",
            "              precision    recall  f1-score   support\n",
            "\n",
            "         0.0       0.82      0.81      0.82      4255\n",
            "         1.0       0.84      0.87      0.85      5417\n",
            "         2.0       0.81      0.79      0.80      4232\n",
            "\n",
            "    accuracy                           0.83     13904\n",
            "   macro avg       0.82      0.82      0.82     13904\n",
            "weighted avg       0.83      0.83      0.83     13904\n",
            " \n",
            "\n",
            "\n",
            "C = 6:\n",
            "\n",
            "accuracy = 0.8253020713463751 \n",
            "\n",
            "[[3454  335  429]\n",
            " [ 421 4684  466]\n",
            " [ 380  398 3337]] \n",
            "\n",
            "              precision    recall  f1-score   support\n",
            "\n",
            "         0.0       0.82      0.81      0.82      4255\n",
            "         1.0       0.84      0.86      0.85      5417\n",
            "         2.0       0.81      0.79      0.80      4232\n",
            "\n",
            "    accuracy                           0.83     13904\n",
            "   macro avg       0.82      0.82      0.82     13904\n",
            "weighted avg       0.82      0.83      0.83     13904\n",
            " \n",
            "\n",
            "\n",
            "C = 8:\n",
            "\n",
            "accuracy = 0.8240794016110472 \n",
            "\n",
            "[[3452  341  426]\n",
            " [ 424 4672  472]\n",
            " [ 379  404 3334]] \n",
            "\n",
            "              precision    recall  f1-score   support\n",
            "\n",
            "         0.0       0.82      0.81      0.81      4255\n",
            "         1.0       0.84      0.86      0.85      5417\n",
            "         2.0       0.81      0.79      0.80      4232\n",
            "\n",
            "    accuracy                           0.82     13904\n",
            "   macro avg       0.82      0.82      0.82     13904\n",
            "weighted avg       0.82      0.82      0.82     13904\n",
            " \n",
            "\n",
            "\n",
            "C = 10:\n",
            "\n",
            "accuracy = 0.8244390103567318 \n",
            "\n",
            "[[3453  343  426]\n",
            " [ 423 4673  469]\n",
            " [ 379  401 3337]] \n",
            "\n",
            "              precision    recall  f1-score   support\n",
            "\n",
            "         0.0       0.82      0.81      0.81      4255\n",
            "         1.0       0.84      0.86      0.85      5417\n",
            "         2.0       0.81      0.79      0.80      4232\n",
            "\n",
            "    accuracy                           0.82     13904\n",
            "   macro avg       0.82      0.82      0.82     13904\n",
            "weighted avg       0.82      0.82      0.82     13904\n",
            " \n",
            "\n",
            "\n"
          ]
        },
        {
          "output_type": "display_data",
          "data": {
            "image/png": "[encoded data removed]",
            "text/plain": [
              "<Figure size 432x288 with 1 Axes>"
            ]
          },
          "metadata": {
            "needs_background": "light"
          }
        }
      ],
      "source": [
        "c = 2\n",
        "hinge = []\n",
        "for i in range(1, 6):\n",
        "  clf = make_pipeline(StandardScaler(), SVC(random_state=0, probability=True, gamma=0.65, kernel=\"rbf\", C=c, break_ties=True))\n",
        "  y_pred = cross_val_predict(clf, X_train, y_train, method=\"predict_proba\")\n",
        "  prediction = np.argmax(y_pred, axis=1)\n",
        "  matrix = np.transpose(confusion_matrix(y_train, prediction, labels=[0, 1, 2]))\n",
        "  accuracy = accuracy_score(y_train, prediction)\n",
        "  l = hinge_loss(y_train, y_pred)\n",
        "  hinge.append(l)\n",
        "  cr = classification_report(y_train, prediction)\n",
        "  print(f\"C = {c}:\\n\")\n",
        "  print(\"accuracy =\", accuracy,\"\\n\")\n",
        "  print(matrix, \"\\n\")\n",
        "  print(cr,\"\\n\\n\")\n",
        "  c += 2\n",
        "\n",
        "plt.plot([i*2 for i in range(1,6)], hinge)\n",
        "plt.title(\"VALIDATION LOSS\")\n",
        "plt.ylabel(\"loss\")\n",
        "plt.xlabel(\"C\")\n",
        "plt.show()"
      ]
    },
    {
      "cell_type": "code",
      "execution_count": 43,
      "metadata": {
        "colab": {
          "base_uri": "https://localhost:8080/"
        },
        "id": "DHtr-GOnH1Al",
        "outputId": "26788a8e-0f51-4037-d72c-4490f9624894"
      },
      "outputs": [
        {
          "output_type": "stream",
          "name": "stdout",
          "text": [
            "training loss =  0.08301815608052096 \n",
            "\n"
          ]
        }
      ],
      "source": [
        "clf = make_pipeline(StandardScaler(), SVC(random_state=0, gamma=0.65, kernel=\"rbf\", C=1, break_ties=True, probability=True))\n",
        "clf.fit(X_train, y_train)\n",
        "pred = clf.predict_proba(X_train)\n",
        "training_loss = hinge_loss(y_train, pred)\n",
        "print(\"training loss = \", training_loss,\"\\n\")"
      ]
    },
    {
      "cell_type": "code",
      "execution_count": 44,
      "metadata": {
        "colab": {
          "base_uri": "https://localhost:8080/"
        },
        "id": "_5zxfRuCS3E0",
        "outputId": "7ccf801e-a271-4be0-bcbc-66683e500087"
      },
      "outputs": [
        {
          "output_type": "stream",
          "name": "stdout",
          "text": [
            "Test results:\n",
            "0.844361334867664\n",
            "[[ 868   56   93]\n",
            " [ 105 1240  140]\n",
            " [  74   73  827]]\n",
            "              precision    recall  f1-score   support\n",
            "\n",
            "         0.0       0.85      0.83      0.84      1047\n",
            "         1.0       0.84      0.91      0.87      1369\n",
            "         2.0       0.85      0.78      0.81      1060\n",
            "\n",
            "    accuracy                           0.84      3476\n",
            "   macro avg       0.85      0.84      0.84      3476\n",
            "weighted avg       0.84      0.84      0.84      3476\n",
            " \n",
            "\n",
            "\n"
          ]
        }
      ],
      "source": [
        "prediction = clf.predict(X_test)\n",
        "matrix = np.transpose(confusion_matrix(y_test, prediction, labels=[0, 1, 2]))\n",
        "accuracy = accuracy_score(y_test, prediction)\n",
        "cr = classification_report(y_test, prediction)\n",
        "print(\"Test results:\")\n",
        "print(accuracy)\n",
        "print(matrix)\n",
        "print(cr,\"\\n\\n\") "
      ]
    },
    {
      "cell_type": "code",
      "source": [
        ""
      ],
      "metadata": {
        "id": "5QfAcCP0IRax"
      },
      "execution_count": null,
      "outputs": []
    }
  ],
  "metadata": {
    "colab": {
      "collapsed_sections": [],
      "name": "23100088_23100091_23100126_23100107_23100067_23100062_group4.ipynb",
      "provenance": []
    },
    "kernelspec": {
      "display_name": "Python 3",
      "name": "python3"
    },
    "language_info": {
      "name": "python"
    }
  },
  "nbformat": 4,
  "nbformat_minor": 0
}